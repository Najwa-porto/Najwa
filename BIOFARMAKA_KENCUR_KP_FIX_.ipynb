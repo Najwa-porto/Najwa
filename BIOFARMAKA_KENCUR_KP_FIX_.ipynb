{
  "nbformat": 4,
  "nbformat_minor": 0,
  "metadata": {
    "colab": {
      "provenance": []
    },
    "kernelspec": {
      "name": "python3",
      "display_name": "Python 3"
    },
    "language_info": {
      "name": "python"
    }
  },
  "cells": [
    {
      "cell_type": "markdown",
      "source": [
        "**MENGIMPORT FILE KENCUR**"
      ],
      "metadata": {
        "id": "CdLgUc-Ml0zp"
      }
    },
    {
      "cell_type": "code",
      "execution_count": null,
      "metadata": {
        "id": "sLIAZGoNlStE",
        "colab": {
          "base_uri": "https://localhost:8080/",
          "height": 90
        },
        "outputId": "e11d4cd7-1c02-4851-9cb7-04615278bd05"
      },
      "outputs": [
        {
          "output_type": "display_data",
          "data": {
            "text/plain": [
              "<IPython.core.display.HTML object>"
            ],
            "text/html": [
              "\n",
              "     <input type=\"file\" id=\"files-ab84923c-50fc-451a-a9ff-af267acac75a\" name=\"files[]\" multiple disabled\n",
              "        style=\"border:none\" />\n",
              "     <output id=\"result-ab84923c-50fc-451a-a9ff-af267acac75a\">\n",
              "      Upload widget is only available when the cell has been executed in the\n",
              "      current browser session. Please rerun this cell to enable.\n",
              "      </output>\n",
              "      <script>// Copyright 2017 Google LLC\n",
              "//\n",
              "// Licensed under the Apache License, Version 2.0 (the \"License\");\n",
              "// you may not use this file except in compliance with the License.\n",
              "// You may obtain a copy of the License at\n",
              "//\n",
              "//      http://www.apache.org/licenses/LICENSE-2.0\n",
              "//\n",
              "// Unless required by applicable law or agreed to in writing, software\n",
              "// distributed under the License is distributed on an \"AS IS\" BASIS,\n",
              "// WITHOUT WARRANTIES OR CONDITIONS OF ANY KIND, either express or implied.\n",
              "// See the License for the specific language governing permissions and\n",
              "// limitations under the License.\n",
              "\n",
              "/**\n",
              " * @fileoverview Helpers for google.colab Python module.\n",
              " */\n",
              "(function(scope) {\n",
              "function span(text, styleAttributes = {}) {\n",
              "  const element = document.createElement('span');\n",
              "  element.textContent = text;\n",
              "  for (const key of Object.keys(styleAttributes)) {\n",
              "    element.style[key] = styleAttributes[key];\n",
              "  }\n",
              "  return element;\n",
              "}\n",
              "\n",
              "// Max number of bytes which will be uploaded at a time.\n",
              "const MAX_PAYLOAD_SIZE = 100 * 1024;\n",
              "\n",
              "function _uploadFiles(inputId, outputId) {\n",
              "  const steps = uploadFilesStep(inputId, outputId);\n",
              "  const outputElement = document.getElementById(outputId);\n",
              "  // Cache steps on the outputElement to make it available for the next call\n",
              "  // to uploadFilesContinue from Python.\n",
              "  outputElement.steps = steps;\n",
              "\n",
              "  return _uploadFilesContinue(outputId);\n",
              "}\n",
              "\n",
              "// This is roughly an async generator (not supported in the browser yet),\n",
              "// where there are multiple asynchronous steps and the Python side is going\n",
              "// to poll for completion of each step.\n",
              "// This uses a Promise to block the python side on completion of each step,\n",
              "// then passes the result of the previous step as the input to the next step.\n",
              "function _uploadFilesContinue(outputId) {\n",
              "  const outputElement = document.getElementById(outputId);\n",
              "  const steps = outputElement.steps;\n",
              "\n",
              "  const next = steps.next(outputElement.lastPromiseValue);\n",
              "  return Promise.resolve(next.value.promise).then((value) => {\n",
              "    // Cache the last promise value to make it available to the next\n",
              "    // step of the generator.\n",
              "    outputElement.lastPromiseValue = value;\n",
              "    return next.value.response;\n",
              "  });\n",
              "}\n",
              "\n",
              "/**\n",
              " * Generator function which is called between each async step of the upload\n",
              " * process.\n",
              " * @param {string} inputId Element ID of the input file picker element.\n",
              " * @param {string} outputId Element ID of the output display.\n",
              " * @return {!Iterable<!Object>} Iterable of next steps.\n",
              " */\n",
              "function* uploadFilesStep(inputId, outputId) {\n",
              "  const inputElement = document.getElementById(inputId);\n",
              "  inputElement.disabled = false;\n",
              "\n",
              "  const outputElement = document.getElementById(outputId);\n",
              "  outputElement.innerHTML = '';\n",
              "\n",
              "  const pickedPromise = new Promise((resolve) => {\n",
              "    inputElement.addEventListener('change', (e) => {\n",
              "      resolve(e.target.files);\n",
              "    });\n",
              "  });\n",
              "\n",
              "  const cancel = document.createElement('button');\n",
              "  inputElement.parentElement.appendChild(cancel);\n",
              "  cancel.textContent = 'Cancel upload';\n",
              "  const cancelPromise = new Promise((resolve) => {\n",
              "    cancel.onclick = () => {\n",
              "      resolve(null);\n",
              "    };\n",
              "  });\n",
              "\n",
              "  // Wait for the user to pick the files.\n",
              "  const files = yield {\n",
              "    promise: Promise.race([pickedPromise, cancelPromise]),\n",
              "    response: {\n",
              "      action: 'starting',\n",
              "    }\n",
              "  };\n",
              "\n",
              "  cancel.remove();\n",
              "\n",
              "  // Disable the input element since further picks are not allowed.\n",
              "  inputElement.disabled = true;\n",
              "\n",
              "  if (!files) {\n",
              "    return {\n",
              "      response: {\n",
              "        action: 'complete',\n",
              "      }\n",
              "    };\n",
              "  }\n",
              "\n",
              "  for (const file of files) {\n",
              "    const li = document.createElement('li');\n",
              "    li.append(span(file.name, {fontWeight: 'bold'}));\n",
              "    li.append(span(\n",
              "        `(${file.type || 'n/a'}) - ${file.size} bytes, ` +\n",
              "        `last modified: ${\n",
              "            file.lastModifiedDate ? file.lastModifiedDate.toLocaleDateString() :\n",
              "                                    'n/a'} - `));\n",
              "    const percent = span('0% done');\n",
              "    li.appendChild(percent);\n",
              "\n",
              "    outputElement.appendChild(li);\n",
              "\n",
              "    const fileDataPromise = new Promise((resolve) => {\n",
              "      const reader = new FileReader();\n",
              "      reader.onload = (e) => {\n",
              "        resolve(e.target.result);\n",
              "      };\n",
              "      reader.readAsArrayBuffer(file);\n",
              "    });\n",
              "    // Wait for the data to be ready.\n",
              "    let fileData = yield {\n",
              "      promise: fileDataPromise,\n",
              "      response: {\n",
              "        action: 'continue',\n",
              "      }\n",
              "    };\n",
              "\n",
              "    // Use a chunked sending to avoid message size limits. See b/62115660.\n",
              "    let position = 0;\n",
              "    do {\n",
              "      const length = Math.min(fileData.byteLength - position, MAX_PAYLOAD_SIZE);\n",
              "      const chunk = new Uint8Array(fileData, position, length);\n",
              "      position += length;\n",
              "\n",
              "      const base64 = btoa(String.fromCharCode.apply(null, chunk));\n",
              "      yield {\n",
              "        response: {\n",
              "          action: 'append',\n",
              "          file: file.name,\n",
              "          data: base64,\n",
              "        },\n",
              "      };\n",
              "\n",
              "      let percentDone = fileData.byteLength === 0 ?\n",
              "          100 :\n",
              "          Math.round((position / fileData.byteLength) * 100);\n",
              "      percent.textContent = `${percentDone}% done`;\n",
              "\n",
              "    } while (position < fileData.byteLength);\n",
              "  }\n",
              "\n",
              "  // All done.\n",
              "  yield {\n",
              "    response: {\n",
              "      action: 'complete',\n",
              "    }\n",
              "  };\n",
              "}\n",
              "\n",
              "scope.google = scope.google || {};\n",
              "scope.google.colab = scope.google.colab || {};\n",
              "scope.google.colab._files = {\n",
              "  _uploadFiles,\n",
              "  _uploadFilesContinue,\n",
              "};\n",
              "})(self);\n",
              "</script> "
            ]
          },
          "metadata": {}
        },
        {
          "output_type": "stream",
          "name": "stdout",
          "text": [
            "Saving bio kencur new.xlsx to bio kencur new.xlsx\n",
            "User uploaded file \"bio kencur new.xlsx\" with length 9752 bytes\n"
          ]
        }
      ],
      "source": [
        "# prompt: MENGIMPORT FILE\n",
        "\n",
        "from google.colab import files\n",
        "\n",
        "uploaded = files.upload()\n",
        "\n",
        "for fn in uploaded.keys():\n",
        "  print('User uploaded file \"{name}\" with length {length} bytes'.format(\n",
        "      name=fn, length=len(uploaded[fn])))\n"
      ]
    },
    {
      "cell_type": "code",
      "source": [
        "uploaded = files.upload()"
      ],
      "metadata": {
        "colab": {
          "base_uri": "https://localhost:8080/",
          "height": 37
        },
        "id": "kXj0AFY7lmQl",
        "outputId": "3a01d1f0-a822-45f4-9dc6-882ad22d5f09"
      },
      "execution_count": null,
      "outputs": [
        {
          "output_type": "display_data",
          "data": {
            "text/plain": [
              "<IPython.core.display.HTML object>"
            ],
            "text/html": [
              "\n",
              "     <input type=\"file\" id=\"files-15621338-7465-4255-8e4d-17365d81d24d\" name=\"files[]\" multiple disabled\n",
              "        style=\"border:none\" />\n",
              "     <output id=\"result-15621338-7465-4255-8e4d-17365d81d24d\">\n",
              "      Upload widget is only available when the cell has been executed in the\n",
              "      current browser session. Please rerun this cell to enable.\n",
              "      </output>\n",
              "      <script>// Copyright 2017 Google LLC\n",
              "//\n",
              "// Licensed under the Apache License, Version 2.0 (the \"License\");\n",
              "// you may not use this file except in compliance with the License.\n",
              "// You may obtain a copy of the License at\n",
              "//\n",
              "//      http://www.apache.org/licenses/LICENSE-2.0\n",
              "//\n",
              "// Unless required by applicable law or agreed to in writing, software\n",
              "// distributed under the License is distributed on an \"AS IS\" BASIS,\n",
              "// WITHOUT WARRANTIES OR CONDITIONS OF ANY KIND, either express or implied.\n",
              "// See the License for the specific language governing permissions and\n",
              "// limitations under the License.\n",
              "\n",
              "/**\n",
              " * @fileoverview Helpers for google.colab Python module.\n",
              " */\n",
              "(function(scope) {\n",
              "function span(text, styleAttributes = {}) {\n",
              "  const element = document.createElement('span');\n",
              "  element.textContent = text;\n",
              "  for (const key of Object.keys(styleAttributes)) {\n",
              "    element.style[key] = styleAttributes[key];\n",
              "  }\n",
              "  return element;\n",
              "}\n",
              "\n",
              "// Max number of bytes which will be uploaded at a time.\n",
              "const MAX_PAYLOAD_SIZE = 100 * 1024;\n",
              "\n",
              "function _uploadFiles(inputId, outputId) {\n",
              "  const steps = uploadFilesStep(inputId, outputId);\n",
              "  const outputElement = document.getElementById(outputId);\n",
              "  // Cache steps on the outputElement to make it available for the next call\n",
              "  // to uploadFilesContinue from Python.\n",
              "  outputElement.steps = steps;\n",
              "\n",
              "  return _uploadFilesContinue(outputId);\n",
              "}\n",
              "\n",
              "// This is roughly an async generator (not supported in the browser yet),\n",
              "// where there are multiple asynchronous steps and the Python side is going\n",
              "// to poll for completion of each step.\n",
              "// This uses a Promise to block the python side on completion of each step,\n",
              "// then passes the result of the previous step as the input to the next step.\n",
              "function _uploadFilesContinue(outputId) {\n",
              "  const outputElement = document.getElementById(outputId);\n",
              "  const steps = outputElement.steps;\n",
              "\n",
              "  const next = steps.next(outputElement.lastPromiseValue);\n",
              "  return Promise.resolve(next.value.promise).then((value) => {\n",
              "    // Cache the last promise value to make it available to the next\n",
              "    // step of the generator.\n",
              "    outputElement.lastPromiseValue = value;\n",
              "    return next.value.response;\n",
              "  });\n",
              "}\n",
              "\n",
              "/**\n",
              " * Generator function which is called between each async step of the upload\n",
              " * process.\n",
              " * @param {string} inputId Element ID of the input file picker element.\n",
              " * @param {string} outputId Element ID of the output display.\n",
              " * @return {!Iterable<!Object>} Iterable of next steps.\n",
              " */\n",
              "function* uploadFilesStep(inputId, outputId) {\n",
              "  const inputElement = document.getElementById(inputId);\n",
              "  inputElement.disabled = false;\n",
              "\n",
              "  const outputElement = document.getElementById(outputId);\n",
              "  outputElement.innerHTML = '';\n",
              "\n",
              "  const pickedPromise = new Promise((resolve) => {\n",
              "    inputElement.addEventListener('change', (e) => {\n",
              "      resolve(e.target.files);\n",
              "    });\n",
              "  });\n",
              "\n",
              "  const cancel = document.createElement('button');\n",
              "  inputElement.parentElement.appendChild(cancel);\n",
              "  cancel.textContent = 'Cancel upload';\n",
              "  const cancelPromise = new Promise((resolve) => {\n",
              "    cancel.onclick = () => {\n",
              "      resolve(null);\n",
              "    };\n",
              "  });\n",
              "\n",
              "  // Wait for the user to pick the files.\n",
              "  const files = yield {\n",
              "    promise: Promise.race([pickedPromise, cancelPromise]),\n",
              "    response: {\n",
              "      action: 'starting',\n",
              "    }\n",
              "  };\n",
              "\n",
              "  cancel.remove();\n",
              "\n",
              "  // Disable the input element since further picks are not allowed.\n",
              "  inputElement.disabled = true;\n",
              "\n",
              "  if (!files) {\n",
              "    return {\n",
              "      response: {\n",
              "        action: 'complete',\n",
              "      }\n",
              "    };\n",
              "  }\n",
              "\n",
              "  for (const file of files) {\n",
              "    const li = document.createElement('li');\n",
              "    li.append(span(file.name, {fontWeight: 'bold'}));\n",
              "    li.append(span(\n",
              "        `(${file.type || 'n/a'}) - ${file.size} bytes, ` +\n",
              "        `last modified: ${\n",
              "            file.lastModifiedDate ? file.lastModifiedDate.toLocaleDateString() :\n",
              "                                    'n/a'} - `));\n",
              "    const percent = span('0% done');\n",
              "    li.appendChild(percent);\n",
              "\n",
              "    outputElement.appendChild(li);\n",
              "\n",
              "    const fileDataPromise = new Promise((resolve) => {\n",
              "      const reader = new FileReader();\n",
              "      reader.onload = (e) => {\n",
              "        resolve(e.target.result);\n",
              "      };\n",
              "      reader.readAsArrayBuffer(file);\n",
              "    });\n",
              "    // Wait for the data to be ready.\n",
              "    let fileData = yield {\n",
              "      promise: fileDataPromise,\n",
              "      response: {\n",
              "        action: 'continue',\n",
              "      }\n",
              "    };\n",
              "\n",
              "    // Use a chunked sending to avoid message size limits. See b/62115660.\n",
              "    let position = 0;\n",
              "    do {\n",
              "      const length = Math.min(fileData.byteLength - position, MAX_PAYLOAD_SIZE);\n",
              "      const chunk = new Uint8Array(fileData, position, length);\n",
              "      position += length;\n",
              "\n",
              "      const base64 = btoa(String.fromCharCode.apply(null, chunk));\n",
              "      yield {\n",
              "        response: {\n",
              "          action: 'append',\n",
              "          file: file.name,\n",
              "          data: base64,\n",
              "        },\n",
              "      };\n",
              "\n",
              "      let percentDone = fileData.byteLength === 0 ?\n",
              "          100 :\n",
              "          Math.round((position / fileData.byteLength) * 100);\n",
              "      percent.textContent = `${percentDone}% done`;\n",
              "\n",
              "    } while (position < fileData.byteLength);\n",
              "  }\n",
              "\n",
              "  // All done.\n",
              "  yield {\n",
              "    response: {\n",
              "      action: 'complete',\n",
              "    }\n",
              "  };\n",
              "}\n",
              "\n",
              "scope.google = scope.google || {};\n",
              "scope.google.colab = scope.google.colab || {};\n",
              "scope.google.colab._files = {\n",
              "  _uploadFiles,\n",
              "  _uploadFilesContinue,\n",
              "};\n",
              "})(self);\n",
              "</script> "
            ]
          },
          "metadata": {}
        }
      ]
    },
    {
      "cell_type": "markdown",
      "source": [
        "**MEMBACA DATA**"
      ],
      "metadata": {
        "id": "ysATbFx8mF1R"
      }
    },
    {
      "cell_type": "code",
      "source": [
        "import pandas as pd # Import the pandas library and assign it to the alias 'pd'\n",
        "\n",
        "df = pd.read_excel(\"bio kencur new.xlsx\")"
      ],
      "metadata": {
        "id": "tcIdVAM_1SY3"
      },
      "execution_count": null,
      "outputs": []
    },
    {
      "cell_type": "code",
      "source": [
        "print(df.head())"
      ],
      "metadata": {
        "colab": {
          "base_uri": "https://localhost:8080/"
        },
        "id": "9TOE1GJUmQRp",
        "outputId": "5b6570ab-af12-4d8b-b83b-dc243e40197c"
      },
      "execution_count": null,
      "outputs": [
        {
          "output_type": "stream",
          "name": "stdout",
          "text": [
            "     Kecamatan  Produksi Kencur  Luas Panen Kencur\n",
            "0      Ciwidey                0                  0\n",
            "1    Rancabali             4804               1199\n",
            "2   Pasirjambu             1250                600\n",
            "3      Cimaung            27411               8458\n",
            "4  Pangalengan                0                  0\n"
          ]
        }
      ]
    },
    {
      "cell_type": "code",
      "source": [
        "# Statistik deskriptif dari data biofarmaka kencur\n",
        "df.describe()\n"
      ],
      "metadata": {
        "colab": {
          "base_uri": "https://localhost:8080/",
          "height": 300
        },
        "id": "odh1ENncmzlf",
        "outputId": "fc893ebd-acdd-4087-e2d0-5dd2e8edf729"
      },
      "execution_count": null,
      "outputs": [
        {
          "output_type": "execute_result",
          "data": {
            "text/plain": [
              "       Produksi Kencur  Luas Panen Kencur\n",
              "count        31.000000          31.000000\n",
              "mean       2900.806452        1101.258065\n",
              "std        6935.460804        2183.303689\n",
              "min           0.000000           0.000000\n",
              "25%           0.000000           0.000000\n",
              "50%           0.000000           0.000000\n",
              "75%        1325.000000         899.500000\n",
              "max       27411.000000        8458.000000"
            ],
            "text/html": [
              "\n",
              "  <div id=\"df-3573b651-21ad-4a75-bd92-7664fecaf3c5\" class=\"colab-df-container\">\n",
              "    <div>\n",
              "<style scoped>\n",
              "    .dataframe tbody tr th:only-of-type {\n",
              "        vertical-align: middle;\n",
              "    }\n",
              "\n",
              "    .dataframe tbody tr th {\n",
              "        vertical-align: top;\n",
              "    }\n",
              "\n",
              "    .dataframe thead th {\n",
              "        text-align: right;\n",
              "    }\n",
              "</style>\n",
              "<table border=\"1\" class=\"dataframe\">\n",
              "  <thead>\n",
              "    <tr style=\"text-align: right;\">\n",
              "      <th></th>\n",
              "      <th>Produksi Kencur</th>\n",
              "      <th>Luas Panen Kencur</th>\n",
              "    </tr>\n",
              "  </thead>\n",
              "  <tbody>\n",
              "    <tr>\n",
              "      <th>count</th>\n",
              "      <td>31.000000</td>\n",
              "      <td>31.000000</td>\n",
              "    </tr>\n",
              "    <tr>\n",
              "      <th>mean</th>\n",
              "      <td>2900.806452</td>\n",
              "      <td>1101.258065</td>\n",
              "    </tr>\n",
              "    <tr>\n",
              "      <th>std</th>\n",
              "      <td>6935.460804</td>\n",
              "      <td>2183.303689</td>\n",
              "    </tr>\n",
              "    <tr>\n",
              "      <th>min</th>\n",
              "      <td>0.000000</td>\n",
              "      <td>0.000000</td>\n",
              "    </tr>\n",
              "    <tr>\n",
              "      <th>25%</th>\n",
              "      <td>0.000000</td>\n",
              "      <td>0.000000</td>\n",
              "    </tr>\n",
              "    <tr>\n",
              "      <th>50%</th>\n",
              "      <td>0.000000</td>\n",
              "      <td>0.000000</td>\n",
              "    </tr>\n",
              "    <tr>\n",
              "      <th>75%</th>\n",
              "      <td>1325.000000</td>\n",
              "      <td>899.500000</td>\n",
              "    </tr>\n",
              "    <tr>\n",
              "      <th>max</th>\n",
              "      <td>27411.000000</td>\n",
              "      <td>8458.000000</td>\n",
              "    </tr>\n",
              "  </tbody>\n",
              "</table>\n",
              "</div>\n",
              "    <div class=\"colab-df-buttons\">\n",
              "\n",
              "  <div class=\"colab-df-container\">\n",
              "    <button class=\"colab-df-convert\" onclick=\"convertToInteractive('df-3573b651-21ad-4a75-bd92-7664fecaf3c5')\"\n",
              "            title=\"Convert this dataframe to an interactive table.\"\n",
              "            style=\"display:none;\">\n",
              "\n",
              "  <svg xmlns=\"http://www.w3.org/2000/svg\" height=\"24px\" viewBox=\"0 -960 960 960\">\n",
              "    <path d=\"M120-120v-720h720v720H120Zm60-500h600v-160H180v160Zm220 220h160v-160H400v160Zm0 220h160v-160H400v160ZM180-400h160v-160H180v160Zm440 0h160v-160H620v160ZM180-180h160v-160H180v160Zm440 0h160v-160H620v160Z\"/>\n",
              "  </svg>\n",
              "    </button>\n",
              "\n",
              "  <style>\n",
              "    .colab-df-container {\n",
              "      display:flex;\n",
              "      gap: 12px;\n",
              "    }\n",
              "\n",
              "    .colab-df-convert {\n",
              "      background-color: #E8F0FE;\n",
              "      border: none;\n",
              "      border-radius: 50%;\n",
              "      cursor: pointer;\n",
              "      display: none;\n",
              "      fill: #1967D2;\n",
              "      height: 32px;\n",
              "      padding: 0 0 0 0;\n",
              "      width: 32px;\n",
              "    }\n",
              "\n",
              "    .colab-df-convert:hover {\n",
              "      background-color: #E2EBFA;\n",
              "      box-shadow: 0px 1px 2px rgba(60, 64, 67, 0.3), 0px 1px 3px 1px rgba(60, 64, 67, 0.15);\n",
              "      fill: #174EA6;\n",
              "    }\n",
              "\n",
              "    .colab-df-buttons div {\n",
              "      margin-bottom: 4px;\n",
              "    }\n",
              "\n",
              "    [theme=dark] .colab-df-convert {\n",
              "      background-color: #3B4455;\n",
              "      fill: #D2E3FC;\n",
              "    }\n",
              "\n",
              "    [theme=dark] .colab-df-convert:hover {\n",
              "      background-color: #434B5C;\n",
              "      box-shadow: 0px 1px 3px 1px rgba(0, 0, 0, 0.15);\n",
              "      filter: drop-shadow(0px 1px 2px rgba(0, 0, 0, 0.3));\n",
              "      fill: #FFFFFF;\n",
              "    }\n",
              "  </style>\n",
              "\n",
              "    <script>\n",
              "      const buttonEl =\n",
              "        document.querySelector('#df-3573b651-21ad-4a75-bd92-7664fecaf3c5 button.colab-df-convert');\n",
              "      buttonEl.style.display =\n",
              "        google.colab.kernel.accessAllowed ? 'block' : 'none';\n",
              "\n",
              "      async function convertToInteractive(key) {\n",
              "        const element = document.querySelector('#df-3573b651-21ad-4a75-bd92-7664fecaf3c5');\n",
              "        const dataTable =\n",
              "          await google.colab.kernel.invokeFunction('convertToInteractive',\n",
              "                                                    [key], {});\n",
              "        if (!dataTable) return;\n",
              "\n",
              "        const docLinkHtml = 'Like what you see? Visit the ' +\n",
              "          '<a target=\"_blank\" href=https://colab.research.google.com/notebooks/data_table.ipynb>data table notebook</a>'\n",
              "          + ' to learn more about interactive tables.';\n",
              "        element.innerHTML = '';\n",
              "        dataTable['output_type'] = 'display_data';\n",
              "        await google.colab.output.renderOutput(dataTable, element);\n",
              "        const docLink = document.createElement('div');\n",
              "        docLink.innerHTML = docLinkHtml;\n",
              "        element.appendChild(docLink);\n",
              "      }\n",
              "    </script>\n",
              "  </div>\n",
              "\n",
              "\n",
              "<div id=\"df-a5069251-e0b8-4b2d-8a67-a7a32e068c2d\">\n",
              "  <button class=\"colab-df-quickchart\" onclick=\"quickchart('df-a5069251-e0b8-4b2d-8a67-a7a32e068c2d')\"\n",
              "            title=\"Suggest charts\"\n",
              "            style=\"display:none;\">\n",
              "\n",
              "<svg xmlns=\"http://www.w3.org/2000/svg\" height=\"24px\"viewBox=\"0 0 24 24\"\n",
              "     width=\"24px\">\n",
              "    <g>\n",
              "        <path d=\"M19 3H5c-1.1 0-2 .9-2 2v14c0 1.1.9 2 2 2h14c1.1 0 2-.9 2-2V5c0-1.1-.9-2-2-2zM9 17H7v-7h2v7zm4 0h-2V7h2v10zm4 0h-2v-4h2v4z\"/>\n",
              "    </g>\n",
              "</svg>\n",
              "  </button>\n",
              "\n",
              "<style>\n",
              "  .colab-df-quickchart {\n",
              "      --bg-color: #E8F0FE;\n",
              "      --fill-color: #1967D2;\n",
              "      --hover-bg-color: #E2EBFA;\n",
              "      --hover-fill-color: #174EA6;\n",
              "      --disabled-fill-color: #AAA;\n",
              "      --disabled-bg-color: #DDD;\n",
              "  }\n",
              "\n",
              "  [theme=dark] .colab-df-quickchart {\n",
              "      --bg-color: #3B4455;\n",
              "      --fill-color: #D2E3FC;\n",
              "      --hover-bg-color: #434B5C;\n",
              "      --hover-fill-color: #FFFFFF;\n",
              "      --disabled-bg-color: #3B4455;\n",
              "      --disabled-fill-color: #666;\n",
              "  }\n",
              "\n",
              "  .colab-df-quickchart {\n",
              "    background-color: var(--bg-color);\n",
              "    border: none;\n",
              "    border-radius: 50%;\n",
              "    cursor: pointer;\n",
              "    display: none;\n",
              "    fill: var(--fill-color);\n",
              "    height: 32px;\n",
              "    padding: 0;\n",
              "    width: 32px;\n",
              "  }\n",
              "\n",
              "  .colab-df-quickchart:hover {\n",
              "    background-color: var(--hover-bg-color);\n",
              "    box-shadow: 0 1px 2px rgba(60, 64, 67, 0.3), 0 1px 3px 1px rgba(60, 64, 67, 0.15);\n",
              "    fill: var(--button-hover-fill-color);\n",
              "  }\n",
              "\n",
              "  .colab-df-quickchart-complete:disabled,\n",
              "  .colab-df-quickchart-complete:disabled:hover {\n",
              "    background-color: var(--disabled-bg-color);\n",
              "    fill: var(--disabled-fill-color);\n",
              "    box-shadow: none;\n",
              "  }\n",
              "\n",
              "  .colab-df-spinner {\n",
              "    border: 2px solid var(--fill-color);\n",
              "    border-color: transparent;\n",
              "    border-bottom-color: var(--fill-color);\n",
              "    animation:\n",
              "      spin 1s steps(1) infinite;\n",
              "  }\n",
              "\n",
              "  @keyframes spin {\n",
              "    0% {\n",
              "      border-color: transparent;\n",
              "      border-bottom-color: var(--fill-color);\n",
              "      border-left-color: var(--fill-color);\n",
              "    }\n",
              "    20% {\n",
              "      border-color: transparent;\n",
              "      border-left-color: var(--fill-color);\n",
              "      border-top-color: var(--fill-color);\n",
              "    }\n",
              "    30% {\n",
              "      border-color: transparent;\n",
              "      border-left-color: var(--fill-color);\n",
              "      border-top-color: var(--fill-color);\n",
              "      border-right-color: var(--fill-color);\n",
              "    }\n",
              "    40% {\n",
              "      border-color: transparent;\n",
              "      border-right-color: var(--fill-color);\n",
              "      border-top-color: var(--fill-color);\n",
              "    }\n",
              "    60% {\n",
              "      border-color: transparent;\n",
              "      border-right-color: var(--fill-color);\n",
              "    }\n",
              "    80% {\n",
              "      border-color: transparent;\n",
              "      border-right-color: var(--fill-color);\n",
              "      border-bottom-color: var(--fill-color);\n",
              "    }\n",
              "    90% {\n",
              "      border-color: transparent;\n",
              "      border-bottom-color: var(--fill-color);\n",
              "    }\n",
              "  }\n",
              "</style>\n",
              "\n",
              "  <script>\n",
              "    async function quickchart(key) {\n",
              "      const quickchartButtonEl =\n",
              "        document.querySelector('#' + key + ' button');\n",
              "      quickchartButtonEl.disabled = true;  // To prevent multiple clicks.\n",
              "      quickchartButtonEl.classList.add('colab-df-spinner');\n",
              "      try {\n",
              "        const charts = await google.colab.kernel.invokeFunction(\n",
              "            'suggestCharts', [key], {});\n",
              "      } catch (error) {\n",
              "        console.error('Error during call to suggestCharts:', error);\n",
              "      }\n",
              "      quickchartButtonEl.classList.remove('colab-df-spinner');\n",
              "      quickchartButtonEl.classList.add('colab-df-quickchart-complete');\n",
              "    }\n",
              "    (() => {\n",
              "      let quickchartButtonEl =\n",
              "        document.querySelector('#df-a5069251-e0b8-4b2d-8a67-a7a32e068c2d button');\n",
              "      quickchartButtonEl.style.display =\n",
              "        google.colab.kernel.accessAllowed ? 'block' : 'none';\n",
              "    })();\n",
              "  </script>\n",
              "</div>\n",
              "\n",
              "    </div>\n",
              "  </div>\n"
            ],
            "application/vnd.google.colaboratory.intrinsic+json": {
              "type": "dataframe",
              "summary": "{\n  \"name\": \"df\",\n  \"rows\": 8,\n  \"fields\": [\n    {\n      \"column\": \"Produksi Kencur\",\n      \"properties\": {\n        \"dtype\": \"number\",\n        \"std\": 9436.693362172815,\n        \"min\": 0.0,\n        \"max\": 27411.0,\n        \"num_unique_values\": 6,\n        \"samples\": [\n          31.0,\n          2900.8064516129034,\n          27411.0\n        ],\n        \"semantic_type\": \"\",\n        \"description\": \"\"\n      }\n    },\n    {\n      \"column\": \"Luas Panen Kencur\",\n      \"properties\": {\n        \"dtype\": \"number\",\n        \"std\": 2884.728206975914,\n        \"min\": 0.0,\n        \"max\": 8458.0,\n        \"num_unique_values\": 6,\n        \"samples\": [\n          31.0,\n          1101.258064516129,\n          8458.0\n        ],\n        \"semantic_type\": \"\",\n        \"description\": \"\"\n      }\n    }\n  ]\n}"
            }
          },
          "metadata": {},
          "execution_count": 4
        }
      ]
    },
    {
      "cell_type": "markdown",
      "source": [
        "**PREPROCESSING DATA KENCUR**"
      ],
      "metadata": {
        "id": "PLmDwykVniKG"
      }
    },
    {
      "cell_type": "code",
      "source": [
        "# PENGECEKAN DATA MISSING ATAU MISSING VALUE\n",
        "print(df[['Produksi Kencur', 'Luas Panen Kencur']].isnull().sum())"
      ],
      "metadata": {
        "colab": {
          "base_uri": "https://localhost:8080/"
        },
        "id": "noBgdYTdnm2Y",
        "outputId": "4008fb91-514a-459e-aafb-e8f6e4b2049f"
      },
      "execution_count": null,
      "outputs": [
        {
          "output_type": "stream",
          "name": "stdout",
          "text": [
            "Produksi Kencur      0\n",
            "Luas Panen Kencur    0\n",
            "dtype: int64\n"
          ]
        }
      ]
    },
    {
      "cell_type": "markdown",
      "source": [
        "Terdapat 0 missing value atau nilai kosong pada setiap kolom numeriknya."
      ],
      "metadata": {
        "id": "bk__B2R3n9L_"
      }
    },
    {
      "cell_type": "code",
      "source": [
        "# PENGECEKAN OUTLIER PADA BOXPLOT\n",
        "#Visualisasi variabel numerik\n",
        "import matplotlib.pyplot as plt  # Import the matplotlib.pyplot module\n",
        "import seaborn as sns  # Assuming seaborn is used later, import it as well\n",
        "\n",
        "var_num = ['Produksi Kencur', 'Luas Panen Kencur']\n",
        "\n",
        "fig, axs = plt.subplots(nrows=1, ncols=2, figsize=(20, 10))\n",
        "axs = axs.flatten()\n",
        "\n",
        "for i, var in enumerate(var_num):\n",
        "    sns.boxplot(x=var, data=df, ax=axs[i])\n",
        "\n",
        "\n",
        "plt.show()"
      ],
      "metadata": {
        "colab": {
          "base_uri": "https://localhost:8080/",
          "height": 539
        },
        "id": "IhQfA5IL1tKi",
        "outputId": "9f676f85-fc86-416a-bab8-6bafc0ce8d80"
      },
      "execution_count": null,
      "outputs": [
        {
          "output_type": "display_data",
          "data": {
            "text/plain": [
              "<Figure size 2000x1000 with 2 Axes>"
            ],
            "image/png": "[encoded data removed]"
          },
          "metadata": {}
        }
      ]
    },
    {
      "cell_type": "markdown",
      "source": [
        "Terdapat outlier pada data maka pengujian cluster yang tahan terhadap outlier dengan hirarki adalah Complete Linkage"
      ],
      "metadata": {
        "id": "DsGk47ypoi07"
      }
    },
    {
      "cell_type": "code",
      "source": [
        "pip install factor-analyzer"
      ],
      "metadata": {
        "colab": {
          "base_uri": "https://localhost:8080/"
        },
        "id": "XlK5LCyXpfUL",
        "outputId": "9ce0ffe9-a838-4df7-98fc-5abdb3970ae9"
      },
      "execution_count": null,
      "outputs": [
        {
          "output_type": "stream",
          "name": "stdout",
          "text": [
            "Collecting factor-analyzer\n",
            "  Downloading factor_analyzer-0.5.1.tar.gz (42 kB)\n",
            "\u001b[?25l     \u001b[90m━━━━━━━━━━━━━━━━━━━━━━━━━━━━━━━━━━━━━━━━\u001b[0m \u001b[32m0.0/42.8 kB\u001b[0m \u001b[31m?\u001b[0m eta \u001b[36m-:--:--\u001b[0m\r\u001b[2K     \u001b[90m━━━━━━━━━━━━━━━━━━━━━━━━━━━━━━━━━━━━━━━━\u001b[0m \u001b[32m42.8/42.8 kB\u001b[0m \u001b[31m3.5 MB/s\u001b[0m eta \u001b[36m0:00:00\u001b[0m\n",
            "\u001b[?25h  Installing build dependencies ... \u001b[?25l\u001b[?25hdone\n",
            "  Getting requirements to build wheel ... \u001b[?25l\u001b[?25hdone\n",
            "  Preparing metadata (pyproject.toml) ... \u001b[?25l\u001b[?25hdone\n",
            "Requirement already satisfied: pandas in /usr/local/lib/python3.10/dist-packages (from factor-analyzer) (2.2.2)\n",
            "Requirement already satisfied: scipy in /usr/local/lib/python3.10/dist-packages (from factor-analyzer) (1.13.1)\n",
            "Requirement already satisfied: numpy in /usr/local/lib/python3.10/dist-packages (from factor-analyzer) (1.26.4)\n",
            "Requirement already satisfied: scikit-learn in /usr/local/lib/python3.10/dist-packages (from factor-analyzer) (1.5.2)\n",
            "Requirement already satisfied: python-dateutil>=2.8.2 in /usr/local/lib/python3.10/dist-packages (from pandas->factor-analyzer) (2.8.2)\n",
            "Requirement already satisfied: pytz>=2020.1 in /usr/local/lib/python3.10/dist-packages (from pandas->factor-analyzer) (2024.2)\n",
            "Requirement already satisfied: tzdata>=2022.7 in /usr/local/lib/python3.10/dist-packages (from pandas->factor-analyzer) (2024.2)\n",
            "Requirement already satisfied: joblib>=1.2.0 in /usr/local/lib/python3.10/dist-packages (from scikit-learn->factor-analyzer) (1.4.2)\n",
            "Requirement already satisfied: threadpoolctl>=3.1.0 in /usr/local/lib/python3.10/dist-packages (from scikit-learn->factor-analyzer) (3.5.0)\n",
            "Requirement already satisfied: six>=1.5 in /usr/local/lib/python3.10/dist-packages (from python-dateutil>=2.8.2->pandas->factor-analyzer) (1.16.0)\n",
            "Building wheels for collected packages: factor-analyzer\n",
            "  Building wheel for factor-analyzer (pyproject.toml) ... \u001b[?25l\u001b[?25hdone\n",
            "  Created wheel for factor-analyzer: filename=factor_analyzer-0.5.1-py2.py3-none-any.whl size=42564 sha256=35820074eb7ba94d9ff0f122f43b2d49c7f5a1ccbe5c72e898f4ae64ba8a479f\n",
            "  Stored in directory: /root/.cache/pip/wheels/24/59/82/6493618e30ed1cb7a013b9e1b0c9e17de80b04dfcef4ba8a4d\n",
            "Successfully built factor-analyzer\n",
            "Installing collected packages: factor-analyzer\n",
            "Successfully installed factor-analyzer-0.5.1\n"
          ]
        }
      ]
    },
    {
      "cell_type": "markdown",
      "source": [
        "1. UJI ASUMSI BARLET"
      ],
      "metadata": {
        "id": "hsXCx6EdpoC6"
      }
    },
    {
      "cell_type": "code",
      "source": [
        "import pandas as pd\n",
        "from scipy.stats import bartlett\n",
        "\n",
        "# Misalkan kita menggunakan dua variabel: 'PDRB_boxcox' dan 'Jumlah Penduduk Miskin_boxcox'\n",
        "# Pastikan Anda sudah mengimpor dataset df yang mengandung kedua variabel ini.\n",
        "\n",
        "# Mengambil data dari variabel yang akan diuji\n",
        "data1 = df['Produksi Kencur']\n",
        "data2 = df['Luas Panen Kencur']\n",
        "\n",
        "# Melakukan uji Bartlett\n",
        "stat, p_value = bartlett(data1, data2)\n",
        "\n",
        "# Menampilkan hasil\n",
        "print(f'Statistik Bartlett: {stat}')\n",
        "print(f'P-Value: {p_value}')\n",
        "\n",
        "# Menentukan kesimpulan dari p-value\n",
        "alpha = 0.05\n",
        "if p_value < alpha:\n",
        "    print(\"Tolak H0: Varians tidak homogen (heteroskedastisitas ada).\")\n",
        "else:\n",
        "    print(\"Gagal tolak H0: Varians homogen (homoskedastisitas ada).\")"
      ],
      "metadata": {
        "colab": {
          "base_uri": "https://localhost:8080/"
        },
        "id": "RP-O3-6Rp12q",
        "outputId": "5a1fcb52-750c-494a-ea12-ebb5e11f3c9c"
      },
      "execution_count": null,
      "outputs": [
        {
          "output_type": "stream",
          "name": "stdout",
          "text": [
            "Statistik Bartlett: 32.88119767390199\n",
            "P-Value: 9.796620880677512e-09\n",
            "Tolak H0: Varians tidak homogen (heteroskedastisitas ada).\n"
          ]
        }
      ]
    },
    {
      "cell_type": "markdown",
      "source": [
        "2. UJI KMO MSA"
      ],
      "metadata": {
        "id": "nx9NDrNJrE2k"
      }
    },
    {
      "cell_type": "code",
      "source": [
        "from factor_analyzer.factor_analyzer import calculate_kmo\n",
        "import pandas as pd\n",
        "\n",
        "# Pilih dua kolom yang relevan\n",
        "var = ['Produksi Kencur', 'Luas Panen Kencur']\n",
        "data_selected = df[var].dropna()\n",
        "\n",
        "# Hitung KMO\n",
        "kmo_all, kmo_model = calculate_kmo(data_selected)\n",
        "\n",
        "print(f'KMO Model Value: {kmo_model}')"
      ],
      "metadata": {
        "colab": {
          "base_uri": "https://localhost:8080/"
        },
        "id": "v2AmyfpeqkNu",
        "outputId": "09d0bc6c-3e6b-4006-8102-fa095e35da16"
      },
      "execution_count": null,
      "outputs": [
        {
          "output_type": "stream",
          "name": "stdout",
          "text": [
            "KMO Model Value: 0.5000000000000003\n"
          ]
        }
      ]
    },
    {
      "cell_type": "markdown",
      "source": [
        "interpretasi : data masih cukup layak untuk dilakukan analisis"
      ],
      "metadata": {
        "id": "wBkSEPWsr8Rx"
      }
    },
    {
      "cell_type": "markdown",
      "source": [
        "3. UJI MULTIKOLINEARITAS"
      ],
      "metadata": {
        "id": "c6r0BQL6sBpq"
      }
    },
    {
      "cell_type": "code",
      "source": [
        "import pandas as pd\n",
        "from statsmodels.stats.outliers_influence import variance_inflation_factor\n",
        "import numpy as np # Import numpy library\n",
        "\n",
        "# Dataframe yang hanya berisi kolom var numerik\n",
        "X = df[['Produksi Kencur', 'Luas Panen Kencur']]\n",
        "\n",
        "# Menambahkan konstanta agar model bisa mengkalkulasi VIF\n",
        "X = pd.concat([pd.Series([1]*len(X), name='Intercept'), X], axis=1)\n",
        "\n",
        "# Check for infinite values and replace with NaN\n",
        "X.replace([np.inf, -np.inf], np.nan, inplace=True)\n",
        "\n",
        "\n",
        "# Fill missing values with the mean of the column\n",
        "X.fillna(X.mean(), inplace=True)\n",
        "\n",
        "# Menghitung VIF untuk setiap variabel\n",
        "vif_data = pd.DataFrame()\n",
        "vif_data['Variable'] = X.columns\n",
        "vif_data['VIF'] = [variance_inflation_factor(X.values, i) for i in range(X.shape[1])]\n",
        "\n",
        "# Menampilkan VIF\n",
        "print(vif_data)\n",
        "\n",
        "# NOTE: tidak ada multikol jika nilai VIF < 5 karena dari output dibawah nilai VIF PDRB dan jumlah penduduk miskin < 5 maka tidak ada multikol"
      ],
      "metadata": {
        "colab": {
          "base_uri": "https://localhost:8080/"
        },
        "id": "w4tc-ipz2IbL",
        "outputId": "58b9ecd8-20eb-42d3-a4f4-f303d4e3e305"
      },
      "execution_count": null,
      "outputs": [
        {
          "output_type": "stream",
          "name": "stdout",
          "text": [
            "            Variable       VIF\n",
            "0          Intercept  1.267094\n",
            "1    Produksi Kencur  4.706804\n",
            "2  Luas Panen Kencur  4.706804\n"
          ]
        }
      ]
    },
    {
      "cell_type": "markdown",
      "source": [
        "Interpretasi : Dengan nilai VIF 4.706804, artinya variabel independen dalam model memiliki korelasi yang cukup kuat satu sama lain, namun belum mencapai level yang kritis. Maka masih aman dilakukan pada pengujian selanjutnya."
      ],
      "metadata": {
        "id": "qgNkTIUYtT8v"
      }
    },
    {
      "cell_type": "markdown",
      "source": [
        "**STANDARISASI DATA KENCUR**"
      ],
      "metadata": {
        "id": "g1-7aC94tjSl"
      }
    },
    {
      "cell_type": "code",
      "source": [
        "from sklearn.preprocessing import StandardScaler\n",
        "\n",
        "# Dataframe yang berisi kolom produksi kencur dan luas panennya\n",
        "df_to_scale = df[['Produksi Kencur', 'Luas Panen Kencur']]\n",
        "\n",
        "# Inisialisasi scaler\n",
        "scaler = StandardScaler()\n",
        "\n",
        "# Menerapkan standarisasi pada kolom\n",
        "df_scaled = scaler.fit_transform(df_to_scale)\n",
        "\n",
        "# Mengubah kembali hasil menjadi DataFrame dengan kolom baru\n",
        "df_scaled = pd.DataFrame(df_scaled, columns=['Produksi Kencur_scaled', 'Luas Panen Kencur_scaled'])\n",
        "\n",
        "# Menampilkan hasil standarisasi\n",
        "print(df_scaled.head())\n",
        "\n",
        "#NOTE: nilai yang negatif artinya data asli berada di bawah rata-rata dan begitupun sebaliknya"
      ],
      "metadata": {
        "colab": {
          "base_uri": "https://localhost:8080/"
        },
        "id": "pU9QznE5ttno",
        "outputId": "22d4d971-2063-47ae-c415-1f0cc33e2bab"
      },
      "execution_count": null,
      "outputs": [
        {
          "output_type": "stream",
          "name": "stdout",
          "text": [
            "   Produksi Kencur_scaled  Luas Panen Kencur_scaled\n",
            "0               -0.425171                 -0.512738\n",
            "1                0.278951                  0.045508\n",
            "2               -0.241959                 -0.233382\n",
            "3                3.592457                  3.425245\n",
            "4               -0.425171                 -0.512738\n"
          ]
        }
      ]
    },
    {
      "cell_type": "markdown",
      "source": [
        "Menyimpan data yang telah di standarisasi ke bentuk excel"
      ],
      "metadata": {
        "id": "HHnVHmnE4x0h"
      }
    },
    {
      "cell_type": "code",
      "source": [
        "pip install pandas openpyxl scikit-learn"
      ],
      "metadata": {
        "colab": {
          "base_uri": "https://localhost:8080/"
        },
        "id": "bdrp9zDl4l92",
        "outputId": "d2af58be-f0a6-4d5b-b63c-5322fb9b25bb"
      },
      "execution_count": null,
      "outputs": [
        {
          "output_type": "stream",
          "name": "stdout",
          "text": [
            "Requirement already satisfied: pandas in /usr/local/lib/python3.10/dist-packages (2.2.2)\n",
            "Requirement already satisfied: openpyxl in /usr/local/lib/python3.10/dist-packages (3.1.5)\n",
            "Requirement already satisfied: scikit-learn in /usr/local/lib/python3.10/dist-packages (1.5.2)\n",
            "Requirement already satisfied: numpy>=1.22.4 in /usr/local/lib/python3.10/dist-packages (from pandas) (1.26.4)\n",
            "Requirement already satisfied: python-dateutil>=2.8.2 in /usr/local/lib/python3.10/dist-packages (from pandas) (2.8.2)\n",
            "Requirement already satisfied: pytz>=2020.1 in /usr/local/lib/python3.10/dist-packages (from pandas) (2024.2)\n",
            "Requirement already satisfied: tzdata>=2022.7 in /usr/local/lib/python3.10/dist-packages (from pandas) (2024.2)\n",
            "Requirement already satisfied: et-xmlfile in /usr/local/lib/python3.10/dist-packages (from openpyxl) (1.1.0)\n",
            "Requirement already satisfied: scipy>=1.6.0 in /usr/local/lib/python3.10/dist-packages (from scikit-learn) (1.13.1)\n",
            "Requirement already satisfied: joblib>=1.2.0 in /usr/local/lib/python3.10/dist-packages (from scikit-learn) (1.4.2)\n",
            "Requirement already satisfied: threadpoolctl>=3.1.0 in /usr/local/lib/python3.10/dist-packages (from scikit-learn) (3.5.0)\n",
            "Requirement already satisfied: six>=1.5 in /usr/local/lib/python3.10/dist-packages (from python-dateutil>=2.8.2->pandas) (1.16.0)\n"
          ]
        }
      ]
    },
    {
      "cell_type": "code",
      "source": [
        "import pandas as pd\n",
        "from sklearn.preprocessing import StandardScaler\n",
        "\n",
        "# Asumsikan df adalah DataFrame yang telah ada\n",
        "# Dataframe yang berisi kolom produksi kencur dan luas panennya\n",
        "df_to_scale = df[['Produksi Kencur', 'Luas Panen Kencur']]\n",
        "\n",
        "# Inisialisasi scaler\n",
        "scaler = StandardScaler()\n",
        "\n",
        "# Menerapkan standarisasi pada kolom\n",
        "df_scaled = scaler.fit_transform(df_to_scale)\n",
        "\n",
        "# Mengubah kembali hasil menjadi DataFrame dengan kolom baru\n",
        "df_scaled = pd.DataFrame(df_scaled, columns=['Produksi Kencur_scaled', 'Luas Panen Kencur_scaled'])\n",
        "\n",
        "# Menampilkan hasil standarisasi\n",
        "print(df_scaled.head())\n",
        "\n",
        "# Menyimpan DataFrame yang telah terstandarisasi ke dalam file Excel\n",
        "output_file = 'data_scaled.xlsx'  # Ganti nama file sesuai kebutuhan\n",
        "df_scaled.to_excel(output_file, index=False)\n",
        "\n",
        "print(f'Data terstandarisasi telah disimpan ke {output_file}')"
      ],
      "metadata": {
        "colab": {
          "base_uri": "https://localhost:8080/"
        },
        "id": "c-TWepkZ4hoy",
        "outputId": "a328927a-b586-4c67-d4dc-078040ad421b"
      },
      "execution_count": null,
      "outputs": [
        {
          "output_type": "stream",
          "name": "stdout",
          "text": [
            "   Produksi Kencur_scaled  Luas Panen Kencur_scaled\n",
            "0               -0.425171                 -0.512738\n",
            "1                0.278951                  0.045508\n",
            "2               -0.241959                 -0.233382\n",
            "3                3.592457                  3.425245\n",
            "4               -0.425171                 -0.512738\n",
            "Data terstandarisasi telah disimpan ke data_scaled.xlsx\n"
          ]
        }
      ]
    },
    {
      "cell_type": "markdown",
      "source": [
        "**HITUNG JARAK EUCLIDEAN**"
      ],
      "metadata": {
        "id": "SB0AAxEJuRTO"
      }
    },
    {
      "cell_type": "markdown",
      "source": [
        "JARAK EUCLIDEAN DIDAPAT DARI DATA YG SUDAH DI STANDARISASI"
      ],
      "metadata": {
        "id": "FULypSEUuapS"
      }
    },
    {
      "cell_type": "code",
      "source": [
        "import numpy as np\n",
        "import pandas as pd\n",
        "from scipy.spatial.distance import cdist\n",
        "\n",
        "# Asumsi df_scaled adalah DataFrame yang sudah distandarisasi atau di-normalisasi\n",
        "# dengan dua kolom 'Produksi Kencur_log_scaled' dan 'Luas Panen Kencur_log_scaled'\n",
        "\n",
        "# Menghitung jarak Euclidean antar pasangan objek\n",
        "distance_matrix = cdist(df_scaled, df_scaled, metric='euclidean')\n",
        "\n",
        "# Konversi ke DataFrame agar lebih mudah dibaca\n",
        "distance_df = pd.DataFrame(distance_matrix,\n",
        "                           columns=[f'Objek_{i+1}' for i in range(df_scaled.shape[0])],\n",
        "                           index=[f'Objek_{i+1}' for i in range(df_scaled.shape[0])])\n",
        "\n",
        "# Menampilkan hasil jarak antar objek\n",
        "print(distance_df.head())  # Hanya menampilkan 5 baris pertama untuk kemudahan"
      ],
      "metadata": {
        "colab": {
          "base_uri": "https://localhost:8080/"
        },
        "id": "uzkiV22WukVy",
        "outputId": "9af6e78b-7715-4bf8-8a08-1fb604828f4e"
      },
      "execution_count": null,
      "outputs": [
        {
          "output_type": "stream",
          "name": "stdout",
          "text": [
            "          Objek_1   Objek_2   Objek_3   Objek_4   Objek_5   Objek_6   Objek_7  \\\n",
            "Objek_1  0.000000  0.898569  0.334075  5.625748  0.000000  0.000000  2.205875   \n",
            "Objek_2  0.898569  0.000000  0.590869  4.733069  0.898569  0.898569  1.345259   \n",
            "Objek_3  0.334075  0.590869  0.000000  5.299839  0.334075  0.334075  1.873542   \n",
            "Objek_4  5.625748  4.733069  5.299839  0.000000  5.625748  5.625748  3.446219   \n",
            "Objek_5  0.000000  0.898569  0.334075  5.625748  0.000000  0.000000  2.205875   \n",
            "\n",
            "          Objek_8   Objek_9  Objek_10  ...  Objek_22  Objek_23  Objek_24  \\\n",
            "Objek_1  0.000000  3.200089  0.000000  ...  0.000000  0.000000  0.090250   \n",
            "Objek_2  0.898569  2.433939  0.898569  ...  0.898569  0.898569  0.808543   \n",
            "Objek_3  0.334075  2.870275  0.334075  ...  0.334075  0.334075  0.252799   \n",
            "Objek_4  5.625748  2.876186  5.625748  ...  5.625748  5.625748  5.536850   \n",
            "Objek_5  0.000000  3.200089  0.000000  ...  0.000000  0.000000  0.090250   \n",
            "\n",
            "         Objek_25  Objek_26  Objek_27  Objek_28  Objek_29  Objek_30  Objek_31  \n",
            "Objek_1  0.000000  0.002605  0.000000  0.000000  0.000000  0.010486  0.000000  \n",
            "Objek_2  0.898569  0.895978  0.898569  0.898569  0.898569  0.888427  0.898569  \n",
            "Objek_3  0.334075  0.331703  0.334075  0.334075  0.334075  0.323612  0.334075  \n",
            "Objek_4  5.625748  5.623200  5.625748  5.625748  5.625748  5.615381  5.625748  \n",
            "Objek_5  0.000000  0.002605  0.000000  0.000000  0.000000  0.010486  0.000000  \n",
            "\n",
            "[5 rows x 31 columns]\n"
          ]
        }
      ]
    },
    {
      "cell_type": "code",
      "source": [
        "import numpy as np\n",
        "import pandas as pd\n",
        "from scipy.spatial.distance import cdist\n",
        "\n",
        "# Asumsi df_scaled adalah DataFrame yang sudah distandarisasi atau di-normalisasi\n",
        "# dengan dua kolom 'Produksi Kencur_log_scaled' dan 'Luas Panen Kencur_log_scaled'\n",
        "\n",
        "# Menghitung jarak Euclidean antar pasangan objek\n",
        "distance_matrix = cdist(df_scaled, df_scaled, metric='euclidean')\n",
        "\n",
        "# Konversi ke DataFrame agar lebih mudah dibaca\n",
        "distance_df = pd.DataFrame(distance_matrix,\n",
        "                           columns=[f'Objek_{i+1}' for i in range(df_scaled.shape[0])],\n",
        "                           index=[f'Objek_{i+1}' for i in range(df_scaled.shape[0])])\n",
        "\n",
        "# Menyimpan DataFrame ke file Excel\n",
        "distance_df.to_excel(\"output_matriks.xlsx\", engine='openpyxl', index=True)  # menggunakan openpyxl\n",
        "# atau\n",
        "# distance_df.to_excel(\"output_matriks.xlsx\", engine='xlsxwriter', index=True)  # menggunakan xlsxwriter\n",
        "\n",
        "print(\"Matriks jarak telah disimpan ke output_matriks.xlsx\")\n"
      ],
      "metadata": {
        "colab": {
          "base_uri": "https://localhost:8080/"
        },
        "id": "wdxWM4_BrJFH",
        "outputId": "54542f05-d33c-4916-a701-3db223fe414e"
      },
      "execution_count": null,
      "outputs": [
        {
          "output_type": "stream",
          "name": "stdout",
          "text": [
            "Matriks jarak telah disimpan ke output_matriks.xlsx\n"
          ]
        }
      ]
    },
    {
      "cell_type": "markdown",
      "source": [
        "**MENENTUKAN NILAI K**"
      ],
      "metadata": {
        "id": "RcAoE6Ah5iMM"
      }
    },
    {
      "cell_type": "code",
      "source": [
        "from sklearn.cluster import AgglomerativeClustering\n",
        "from sklearn.metrics import silhouette_score\n",
        "import matplotlib.pyplot as plt\n",
        "\n",
        "# Data yang sudah distandarisasi (misalnya df_scaled)\n",
        "X = df_scaled.values  # Pastikan untuk menggunakan nilai dari DataFrame\n",
        "\n",
        "# List untuk menyimpan nilai silhouette score\n",
        "silhouette_scores = []\n",
        "\n",
        "# Uji Agglomerative Clustering untuk berbagai jumlah cluster (misalnya dari 2 hingga 10)\n",
        "cluster_range = range(2, 11)\n",
        "for k in cluster_range:\n",
        "    # Inisialisasi model Agglomerative Clustering dengan complete linkage\n",
        "    agglomerative = AgglomerativeClustering(n_clusters=k, linkage='complete')\n",
        "    labels = agglomerative.fit_predict(X)\n",
        "\n",
        "    # Menghitung silhouette score\n",
        "    silhouette_avg = silhouette_score(X, labels)\n",
        "    silhouette_scores.append(silhouette_avg)\n",
        "\n",
        "    # Menampilkan jumlah cluster dan nilai silhouette score\n",
        "    print(f\"Jumlah Cluster: {k}, Silhouette Score: {silhouette_avg:.4f}\")\n",
        "\n",
        "# Plotting Silhouette Scores\n",
        "plt.figure(figsize=(8, 5))\n",
        "plt.plot(cluster_range, silhouette_scores, marker='o')\n",
        "plt.title('Silhouette Scores for Agglomerative Clustering')\n",
        "plt.xlabel('Number of Clusters')\n",
        "plt.ylabel('Silhouette Score')\n",
        "plt.xticks(cluster_range)\n",
        "plt.grid()\n",
        "plt.show()"
      ],
      "metadata": {
        "colab": {
          "base_uri": "https://localhost:8080/",
          "height": 643
        },
        "id": "4F7dzqje5ONj",
        "outputId": "101b5dd5-c1e1-4b6d-e4d7-706273502be3"
      },
      "execution_count": null,
      "outputs": [
        {
          "output_type": "stream",
          "name": "stdout",
          "text": [
            "Jumlah Cluster: 2, Silhouette Score: 0.8215\n",
            "Jumlah Cluster: 3, Silhouette Score: 0.8409\n",
            "Jumlah Cluster: 4, Silhouette Score: 0.8034\n",
            "Jumlah Cluster: 5, Silhouette Score: 0.7756\n",
            "Jumlah Cluster: 6, Silhouette Score: 0.7632\n",
            "Jumlah Cluster: 7, Silhouette Score: 0.7483\n",
            "Jumlah Cluster: 8, Silhouette Score: 0.7195\n",
            "Jumlah Cluster: 9, Silhouette Score: 0.6929\n",
            "Jumlah Cluster: 10, Silhouette Score: 0.6871\n"
          ]
        },
        {
          "output_type": "display_data",
          "data": {
            "text/plain": [
              "<Figure size 800x500 with 1 Axes>"
            ],
            "image/png": "[encoded data removed]"
          },
          "metadata": {}
        }
      ]
    },
    {
      "cell_type": "markdown",
      "source": [
        "Karena hasil yang memiliki nilai paling besar itu adalah cluster 3 maka nilai k yaitu 3 cluster"
      ],
      "metadata": {
        "id": "mnSukJ555ZgE"
      }
    },
    {
      "cell_type": "code",
      "source": [
        "import matplotlib.pyplot as plt\n",
        "from sklearn.cluster import AgglomerativeClustering\n",
        "from sklearn.metrics import pairwise_distances\n",
        "import numpy as np\n",
        "\n",
        "# Fungsi untuk menghitung WCSS (Sum of Squared Distances)\n",
        "def calculate_wcss(X, labels):\n",
        "    wcss = 0\n",
        "    for label in np.unique(labels):\n",
        "        cluster_points = X[labels == label]\n",
        "        centroid = np.mean(cluster_points, axis=0)\n",
        "        wcss += np.sum((cluster_points - centroid) ** 2)\n",
        "    return wcss\n",
        "\n",
        "# Mencari jumlah cluster optimal menggunakan elbow method dengan agglomerative clustering\n",
        "wcss = []\n",
        "for i in range(1, 11):\n",
        "    clustering = AgglomerativeClustering(n_clusters=i, linkage='complete')\n",
        "    labels = clustering.fit_predict(df_scaled)\n",
        "    wcss.append(calculate_wcss(df_scaled, labels))\n",
        "\n",
        "# Plotting the Elbow graph\n",
        "plt.figure(figsize=(8, 5))\n",
        "plt.plot(range(1, 11), wcss, marker='o')\n",
        "plt.title('Elbow Method for Agglomerative Clustering')\n",
        "plt.xlabel('Number of Clusters')\n",
        "plt.ylabel('WCSS (Distortion)')\n",
        "plt.show()\n"
      ],
      "metadata": {
        "colab": {
          "base_uri": "https://localhost:8080/",
          "height": 854
        },
        "id": "5RzWwGAmuCi9",
        "outputId": "c7423343-2d98-4c47-a2eb-42eb5ac53212"
      },
      "execution_count": null,
      "outputs": [
        {
          "output_type": "stream",
          "name": "stderr",
          "text": [
            "/usr/local/lib/python3.10/dist-packages/numpy/core/fromnumeric.py:86: FutureWarning: The behavior of DataFrame.sum with axis=None is deprecated, in a future version this will reduce over both axes and return a scalar. To retain the old behavior, pass axis=0 (or do not pass axis)\n",
            "  return reduction(axis=axis, out=out, **passkwargs)\n",
            "/usr/local/lib/python3.10/dist-packages/numpy/core/fromnumeric.py:86: FutureWarning: The behavior of DataFrame.sum with axis=None is deprecated, in a future version this will reduce over both axes and return a scalar. To retain the old behavior, pass axis=0 (or do not pass axis)\n",
            "  return reduction(axis=axis, out=out, **passkwargs)\n",
            "/usr/local/lib/python3.10/dist-packages/numpy/core/fromnumeric.py:86: FutureWarning: The behavior of DataFrame.sum with axis=None is deprecated, in a future version this will reduce over both axes and return a scalar. To retain the old behavior, pass axis=0 (or do not pass axis)\n",
            "  return reduction(axis=axis, out=out, **passkwargs)\n",
            "/usr/local/lib/python3.10/dist-packages/numpy/core/fromnumeric.py:86: FutureWarning: The behavior of DataFrame.sum with axis=None is deprecated, in a future version this will reduce over both axes and return a scalar. To retain the old behavior, pass axis=0 (or do not pass axis)\n",
            "  return reduction(axis=axis, out=out, **passkwargs)\n",
            "/usr/local/lib/python3.10/dist-packages/numpy/core/fromnumeric.py:86: FutureWarning: The behavior of DataFrame.sum with axis=None is deprecated, in a future version this will reduce over both axes and return a scalar. To retain the old behavior, pass axis=0 (or do not pass axis)\n",
            "  return reduction(axis=axis, out=out, **passkwargs)\n",
            "/usr/local/lib/python3.10/dist-packages/numpy/core/fromnumeric.py:86: FutureWarning: The behavior of DataFrame.sum with axis=None is deprecated, in a future version this will reduce over both axes and return a scalar. To retain the old behavior, pass axis=0 (or do not pass axis)\n",
            "  return reduction(axis=axis, out=out, **passkwargs)\n",
            "/usr/local/lib/python3.10/dist-packages/numpy/core/fromnumeric.py:86: FutureWarning: The behavior of DataFrame.sum with axis=None is deprecated, in a future version this will reduce over both axes and return a scalar. To retain the old behavior, pass axis=0 (or do not pass axis)\n",
            "  return reduction(axis=axis, out=out, **passkwargs)\n",
            "/usr/local/lib/python3.10/dist-packages/numpy/core/fromnumeric.py:86: FutureWarning: The behavior of DataFrame.sum with axis=None is deprecated, in a future version this will reduce over both axes and return a scalar. To retain the old behavior, pass axis=0 (or do not pass axis)\n",
            "  return reduction(axis=axis, out=out, **passkwargs)\n",
            "/usr/local/lib/python3.10/dist-packages/numpy/core/fromnumeric.py:86: FutureWarning: The behavior of DataFrame.sum with axis=None is deprecated, in a future version this will reduce over both axes and return a scalar. To retain the old behavior, pass axis=0 (or do not pass axis)\n",
            "  return reduction(axis=axis, out=out, **passkwargs)\n",
            "/usr/local/lib/python3.10/dist-packages/numpy/core/fromnumeric.py:86: FutureWarning: The behavior of DataFrame.sum with axis=None is deprecated, in a future version this will reduce over both axes and return a scalar. To retain the old behavior, pass axis=0 (or do not pass axis)\n",
            "  return reduction(axis=axis, out=out, **passkwargs)\n"
          ]
        },
        {
          "output_type": "display_data",
          "data": {
            "text/plain": [
              "<Figure size 800x500 with 1 Axes>"
            ],
            "image/png": "[encoded data removed]"
          },
          "metadata": {}
        }
      ]
    },
    {
      "cell_type": "markdown",
      "source": [
        "INI MAH NGITUNG SSE DARI DATA YG DI STANDARISASI"
      ],
      "metadata": {
        "id": "0pcsSyjisrpD"
      }
    },
    {
      "cell_type": "code",
      "source": [
        "import numpy as np\n",
        "import pandas as pd\n",
        "from sklearn.cluster import AgglomerativeClustering\n",
        "from sklearn.metrics import pairwise_distances_argmin_min\n",
        "\n",
        "# Misalkan df_scaled adalah data yang telah distandarisasi\n",
        "# df_scaled = pd.DataFrame(data_scaled)\n",
        "\n",
        "# Tentukan jumlah cluster (misalkan k=3) dan buat model AgglomerativeClustering dengan linkage 'complete'\n",
        "k = 3\n",
        "model = AgglomerativeClustering(n_clusters=k, linkage='complete')\n",
        "\n",
        "# Fit model dan prediksi cluster untuk tiap data\n",
        "cluster_labels = model.fit_predict(df_scaled)\n",
        "\n",
        "# Menambahkan kolom cluster ke df_scaled\n",
        "df_scaled['cluster'] = cluster_labels\n",
        "\n",
        "# Fungsi untuk menghitung centroid dari setiap cluster\n",
        "centroids = df_scaled.groupby('cluster').mean().values\n",
        "\n",
        "# Menghitung SSE\n",
        "sse = 0\n",
        "for i in range(k):\n",
        "    cluster_data = df_scaled[df_scaled['cluster'] == i].drop(columns=['cluster']).values\n",
        "    centroid = centroids[i]\n",
        "    sse += np.sum((cluster_data - centroid) ** 2)\n",
        "\n",
        "print(\"SSE (Sum of Squared Errors):\", sse)\n"
      ],
      "metadata": {
        "colab": {
          "base_uri": "https://localhost:8080/"
        },
        "id": "bUOovvugpVME",
        "outputId": "8f204764-9e11-4106-b7fc-3afad1139c17"
      },
      "execution_count": null,
      "outputs": [
        {
          "output_type": "stream",
          "name": "stdout",
          "text": [
            "SSE (Sum of Squared Errors): 4.176388367012859\n"
          ]
        }
      ]
    },
    {
      "cell_type": "code",
      "source": [
        "##ELBOW METHODE##\n",
        "from sklearn.cluster import KMeans\n",
        "import matplotlib.pyplot as plt\n",
        "\n",
        "# Mencari jumlah cluster optimal menggunakan Elbow Method\n",
        "wcss = []\n",
        "for i in range(1, 11):\n",
        "    kmeans = KMeans(n_clusters=i, init='k-means++', max_iter=300, n_init=10, random_state=42)\n",
        "    kmeans.fit(df_scaled)\n",
        "    wcss.append(kmeans.inertia_)\n",
        "\n",
        "# Plotting the Elbow graph\n",
        "plt.figure(figsize=(8, 5))\n",
        "plt.plot(range(1, 11), wcss, marker='o')\n",
        "plt.title('Elbow Method')\n",
        "plt.xlabel('Number of Clusters')\n",
        "plt.ylabel('WCSS')\n",
        "plt.show()"
      ],
      "metadata": {
        "colab": {
          "base_uri": "https://localhost:8080/",
          "height": 487
        },
        "id": "DKBfWaadmCJ7",
        "outputId": "0a7f6e0e-88d5-4ce5-86ba-926547ffc91a"
      },
      "execution_count": null,
      "outputs": [
        {
          "output_type": "display_data",
          "data": {
            "text/plain": [
              "<Figure size 800x500 with 1 Axes>"
            ],
            "image/png": "[encoded data removed]"
          },
          "metadata": {}
        }
      ]
    },
    {
      "cell_type": "markdown",
      "source": [
        "**CLUSTERING DENGAN COMPLETE LINKAGE HIRARKI**"
      ],
      "metadata": {
        "id": "lg8Uh_H8veRy"
      }
    },
    {
      "cell_type": "code",
      "source": [
        "from sklearn.cluster import AgglomerativeClustering\n",
        "import matplotlib.pyplot as plt\n",
        "import scipy.cluster.hierarchy as sch\n",
        "\n",
        "# Menggunakan metode Agglomerative Clustering dengan complete linkage\n",
        "clustering = AgglomerativeClustering(n_clusters=3, linkage='complete')\n",
        "\n",
        "# Melakukan fitting dan prediksi terhadap data\n",
        "cluster_labels = clustering.fit_predict(df_scaled)\n",
        "\n",
        "# Menambahkan hasil cluster ke DataFrame\n",
        "df_scaled['Cluster'] = cluster_labels\n",
        "\n",
        "# Menampilkan hasil cluster\n",
        "print(df_scaled)\n",
        "\n",
        "# Visualisasi Dendrogram menggunakan SciPy\n",
        "plt.figure(figsize=(10, 7))\n",
        "plt.title(\"Dendrogram (Complete Linkage)\")\n",
        "plt.xlabel(\"Kecamatan\")\n",
        "plt.ylabel(\"Euclidean Distance\")\n",
        "\n",
        "# Menghitung linkage matrix\n",
        "linkage_matrix = sch.linkage(df_scaled.drop(columns='Cluster'), method='complete')\n",
        "\n",
        "# Membuat dendrogram dengan label dari df['Kecamatan']\n",
        "dendrogram = sch.dendrogram(linkage_matrix, labels=df['Kecamatan'].tolist())\n",
        "# The labels argument is passed to dendrogram, not linkage\n",
        "\n",
        "plt.show()"
      ],
      "metadata": {
        "colab": {
          "base_uri": "https://localhost:8080/",
          "height": 1000
        },
        "id": "F8qzrfCvz69W",
        "outputId": "363cb949-0e1c-4c9f-f351-3f0331e03c69"
      },
      "execution_count": null,
      "outputs": [
        {
          "output_type": "stream",
          "name": "stdout",
          "text": [
            "    Produksi Kencur_scaled  Luas Panen Kencur_scaled  Cluster\n",
            "0                -0.425171                 -0.512738        2\n",
            "1                 0.278951                  0.045508        2\n",
            "2                -0.241959                 -0.233382        2\n",
            "3                 3.592457                  3.425245        1\n",
            "4                -0.425171                 -0.512738        2\n",
            "5                -0.425171                 -0.512738        2\n",
            "6                 0.952586                  1.209955        0\n",
            "7                -0.425171                 -0.512738        2\n",
            "8                 0.906270                  2.397216        0\n",
            "9                -0.425171                 -0.512738        2\n",
            "10                0.171369                  0.977159        0\n",
            "11               -0.425171                 -0.512738        2\n",
            "12               -0.425171                 -0.512738        2\n",
            "13               -0.425024                 -0.512272        2\n",
            "14               -0.425171                 -0.512738        2\n",
            "15                0.350184                  1.349633        0\n",
            "16               -0.425171                 -0.512738        2\n",
            "17                3.480918                  1.861785        1\n",
            "18               -0.425171                 -0.512738        2\n",
            "19               -0.219973                  0.185651        2\n",
            "20               -0.425171                 -0.512738        2\n",
            "21               -0.425171                 -0.512738        2\n",
            "22               -0.425171                 -0.512738        2\n",
            "23               -0.350860                 -0.461522        2\n",
            "24               -0.425171                 -0.512738        2\n",
            "25               -0.422972                 -0.511341        2\n",
            "26               -0.425171                 -0.512738        2\n",
            "27               -0.425171                 -0.512738        2\n",
            "28               -0.425171                 -0.512738        2\n",
            "29               -0.418869                 -0.504357        2\n",
            "30               -0.425171                 -0.512738        2\n"
          ]
        },
        {
          "output_type": "display_data",
          "data": {
            "text/plain": [
              "<Figure size 1000x700 with 1 Axes>"
            ],
            "image/png": "[encoded data removed]"
          },
          "metadata": {}
        }
      ]
    },
    {
      "cell_type": "code",
      "source": [
        "from sklearn.cluster import AgglomerativeClustering\n",
        "import matplotlib.pyplot as plt\n",
        "import scipy.cluster.hierarchy as sch\n",
        "\n",
        "# Menggunakan metode Agglomerative Clustering dengan complete linkage\n",
        "clustering = AgglomerativeClustering(n_clusters=3, linkage='complete')\n",
        "\n",
        "# Melakukan fitting dan prediksi terhadap data\n",
        "cluster_labels = clustering.fit_predict(df_scaled)\n",
        "\n",
        "# Menambahkan hasil cluster ke DataFrame\n",
        "df_scaled['Cluster'] = cluster_labels\n",
        "\n",
        "# Menampilkan hasil cluster\n",
        "print(df_scaled)\n",
        "\n",
        "# Visualisasi Dendrogram menggunakan SciPy\n",
        "plt.figure(figsize=(10, 7))\n",
        "plt.title(\"Dendrogram (Complete Linkage)\")\n",
        "plt.xlabel(\"Kecamatan\")\n",
        "plt.ylabel(\"Euclidean Distance\")\n",
        "dendrogram = sch.dendrogram(sch.linkage(df_scaled.drop(columns='Cluster'), method='complete'))\n",
        "plt.show()\n",
        "\n"
      ],
      "metadata": {
        "colab": {
          "base_uri": "https://localhost:8080/",
          "height": 1000
        },
        "id": "HEImrI5uv5Vt",
        "outputId": "8bea06ff-4d80-4cf3-c332-824e7760b191"
      },
      "execution_count": null,
      "outputs": [
        {
          "output_type": "stream",
          "name": "stdout",
          "text": [
            "    Produksi Kencur_scaled  Luas Panen Kencur_scaled  Cluster\n",
            "0                -0.425171                 -0.512738        2\n",
            "1                 0.278951                  0.045508        2\n",
            "2                -0.241959                 -0.233382        2\n",
            "3                 3.592457                  3.425245        1\n",
            "4                -0.425171                 -0.512738        2\n",
            "5                -0.425171                 -0.512738        2\n",
            "6                 0.952586                  1.209955        0\n",
            "7                -0.425171                 -0.512738        2\n",
            "8                 0.906270                  2.397216        0\n",
            "9                -0.425171                 -0.512738        2\n",
            "10                0.171369                  0.977159        0\n",
            "11               -0.425171                 -0.512738        2\n",
            "12               -0.425171                 -0.512738        2\n",
            "13               -0.425024                 -0.512272        2\n",
            "14               -0.425171                 -0.512738        2\n",
            "15                0.350184                  1.349633        0\n",
            "16               -0.425171                 -0.512738        2\n",
            "17                3.480918                  1.861785        1\n",
            "18               -0.425171                 -0.512738        2\n",
            "19               -0.219973                  0.185651        2\n",
            "20               -0.425171                 -0.512738        2\n",
            "21               -0.425171                 -0.512738        2\n",
            "22               -0.425171                 -0.512738        2\n",
            "23               -0.350860                 -0.461522        2\n",
            "24               -0.425171                 -0.512738        2\n",
            "25               -0.422972                 -0.511341        2\n",
            "26               -0.425171                 -0.512738        2\n",
            "27               -0.425171                 -0.512738        2\n",
            "28               -0.425171                 -0.512738        2\n",
            "29               -0.418869                 -0.504357        2\n",
            "30               -0.425171                 -0.512738        2\n"
          ]
        },
        {
          "output_type": "display_data",
          "data": {
            "text/plain": [
              "<Figure size 1000x700 with 1 Axes>"
            ],
            "image/png": "[encoded data removed]"
          },
          "metadata": {}
        }
      ]
    },
    {
      "cell_type": "markdown",
      "source": [
        "**MENGHITUNG RATA RATA DARI SETIAP CLUSTER**"
      ],
      "metadata": {
        "id": "kv6LnILH0jdz"
      }
    },
    {
      "cell_type": "code",
      "source": [
        "# Gabungkan data asli dengan label cluster (pastikan index antara df dan df_scaled sama)\n",
        "df['Cluster'] = cluster_labels\n",
        "\n",
        "# Menghitung rata-rata setiap cluster hanya untuk kolom numerik dari data asli\n",
        "rata_rata_per_cluster = df.groupby('Cluster').mean(numeric_only=True)\n",
        "# The numeric_only=True argument is added to the mean function\n",
        "\n",
        "# Menampilkan hasil rata-rata\n",
        "print(rata_rata_per_cluster)"
      ],
      "metadata": {
        "colab": {
          "base_uri": "https://localhost:8080/"
        },
        "id": "RbNf8I0H3ry7",
        "outputId": "acebd563-e7ad-45b3-e68c-eec6461c707e"
      },
      "execution_count": null,
      "outputs": [
        {
          "output_type": "stream",
          "name": "stdout",
          "text": [
            "         Produksi Kencur  Luas Panen Kencur\n",
            "Cluster                                    \n",
            "0                 6961.0            4287.50\n",
            "1                27030.5            6779.00\n",
            "2                  320.8             137.24\n"
          ]
        }
      ]
    }
  ]
}